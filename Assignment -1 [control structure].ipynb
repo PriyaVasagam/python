{
 "cells": [
  {
   "cell_type": "code",
   "execution_count": 1,
   "metadata": {},
   "outputs": [
    {
     "name": "stdout",
     "output_type": "stream",
     "text": [
      "Welcome to assignment-1\n"
     ]
    }
   ],
   "source": [
    "print(\"Welcome to assignment-1\")"
   ]
  },
  {
   "cell_type": "code",
   "execution_count": 4,
   "metadata": {},
   "outputs": [
    {
     "name": "stdout",
     "output_type": "stream",
     "text": [
      "num1: 10\n",
      "num1: 30\n",
      "Add: 40\n"
     ]
    }
   ],
   "source": [
    "num1=10\n",
    "print(\"num1:\",num1)\n",
    "num2=30\n",
    "print(\"num1:\",num2)\n",
    "add=num1+num2\n",
    "print(\"Add:\",add)\n"
   ]
  },
  {
   "cell_type": "code",
   "execution_count": 5,
   "metadata": {},
   "outputs": [],
   "source": [
    "#BODY MASS INDEX"
   ]
  },
  {
   "cell_type": "code",
   "execution_count": 14,
   "metadata": {},
   "outputs": [
    {
     "name": "stdout",
     "output_type": "stream",
     "text": [
      "Enter the BMI Index:27\n"
     ]
    }
   ],
   "source": [
    "BMI=int(input(\"Enter the BMI Index:\"))"
   ]
  },
  {
   "cell_type": "code",
   "execution_count": 15,
   "metadata": {},
   "outputs": [
    {
     "name": "stdout",
     "output_type": "stream",
     "text": [
      "very overweight\n"
     ]
    }
   ],
   "source": [
    "if(BMI<18):\n",
    "    print(\"under weight\")\n",
    "elif(BMI<24):\n",
    "    print(\"normal\")\n",
    "elif(BMI<30):\n",
    "    print(\"very overweight\")\n",
    "else:\n",
    "    print(\"obese\")"
   ]
  },
  {
   "cell_type": "code",
   "execution_count": null,
   "metadata": {},
   "outputs": [],
   "source": []
  }
 ],
 "metadata": {
  "kernelspec": {
   "display_name": "Python 3",
   "language": "python",
   "name": "python3"
  },
  "language_info": {
   "codemirror_mode": {
    "name": "ipython",
    "version": 3
   },
   "file_extension": ".py",
   "mimetype": "text/x-python",
   "name": "python",
   "nbconvert_exporter": "python",
   "pygments_lexer": "ipython3",
   "version": "3.7.4"
  }
 },
 "nbformat": 4,
 "nbformat_minor": 2
}
